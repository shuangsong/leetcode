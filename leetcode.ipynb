{
 "cells": [
  {
   "cell_type": "code",
   "execution_count": 48,
   "metadata": {},
   "outputs": [],
   "source": [
    "#two sum\n",
    "#Given an array of integers nums and an integer target, return indices of the two numbers such that they add up to target.\n",
    "\n",
    "#You may assume that each input would have exactly one solution, and you may not use the same element twice.\n",
    "\n",
    "#You can return the answer in any order.\n",
    "def twoSum(nums,target):\n",
    "    # check all combinations of numbers\n",
    "    for i in range(len(nums)):\n",
    "        for j in range(i+1, len(nums)):\n",
    "            if nums[i] + nums[j] == target:\n",
    "                return [i,j]\n",
    "            else:\n",
    "                continue"
   ]
  },
  {
   "cell_type": "code",
   "execution_count": 49,
   "metadata": {},
   "outputs": [
    {
     "data": {
      "text/plain": [
       "[0, 1]"
      ]
     },
     "execution_count": 49,
     "metadata": {},
     "output_type": "execute_result"
    }
   ],
   "source": [
    "twoSum([2,7,11,15], 9)"
   ]
  },
  {
   "cell_type": "code",
   "execution_count": 69,
   "metadata": {},
   "outputs": [],
   "source": [
    "#add two number:\n",
    "#You are given two non-empty linked lists representing two non-negative integers. The digits are stored in reverse order, and each of their nodes contains a single digit. Add the two numbers and return the sum as a linked list.\n",
    "\n",
    "#You may assume the two numbers do not contain any leading zero, except the number 0 itself.\n",
    "# Definition for singly-linked list.\n",
    "class ListNode:\n",
    "    def __init__(self, val=0, next=None):\n",
    "        self.val = val\n",
    "        self.next = next\n",
    "\n",
    "def addTwoNumbers(l1, l2):\n",
    "    dummy = cur = ListNode(0)\n",
    "    carry = 0\n",
    "    while l1 or l2 or carry:\n",
    "        if l1:\n",
    "            carry += l1.val\n",
    "            l1 = l1.next\n",
    "        if l2:\n",
    "            carry += l2.val\n",
    "            l2 = l2.next\n",
    "        cur.next = ListNode(carry%10)\n",
    "        cur = cur.next\n",
    "        carry //= 10\n",
    "    return dummy.next\n"
   ]
  },
  {
   "cell_type": "code",
   "execution_count": 70,
   "metadata": {},
   "outputs": [
    {
     "ename": "AttributeError",
     "evalue": "'list' object has no attribute 'val'",
     "output_type": "error",
     "traceback": [
      "\u001b[0;31m---------------------------------------------------------------------------\u001b[0m",
      "\u001b[0;31mAttributeError\u001b[0m                            Traceback (most recent call last)",
      "\u001b[0;32m<ipython-input-70-544b26da61d1>\u001b[0m in \u001b[0;36m<module>\u001b[0;34m\u001b[0m\n\u001b[0;32m----> 1\u001b[0;31m \u001b[0maddTwoNumbers\u001b[0m\u001b[0;34m(\u001b[0m\u001b[0;34m[\u001b[0m\u001b[0;36m2\u001b[0m\u001b[0;34m,\u001b[0m\u001b[0;36m3\u001b[0m\u001b[0;34m,\u001b[0m\u001b[0;36m4\u001b[0m\u001b[0;34m]\u001b[0m\u001b[0;34m,\u001b[0m\u001b[0;34m[\u001b[0m\u001b[0;36m4\u001b[0m\u001b[0;34m,\u001b[0m\u001b[0;36m5\u001b[0m\u001b[0;34m,\u001b[0m\u001b[0;36m6\u001b[0m\u001b[0;34m]\u001b[0m\u001b[0;34m)\u001b[0m\u001b[0;34m\u001b[0m\u001b[0;34m\u001b[0m\u001b[0m\n\u001b[0m",
      "\u001b[0;32m<ipython-input-69-8c2c8f26d6ba>\u001b[0m in \u001b[0;36maddTwoNumbers\u001b[0;34m(l1, l2)\u001b[0m\n\u001b[1;32m     14\u001b[0m     \u001b[0;32mwhile\u001b[0m \u001b[0ml1\u001b[0m \u001b[0;32mor\u001b[0m \u001b[0ml2\u001b[0m \u001b[0;32mor\u001b[0m \u001b[0mcarry\u001b[0m\u001b[0;34m:\u001b[0m\u001b[0;34m\u001b[0m\u001b[0;34m\u001b[0m\u001b[0m\n\u001b[1;32m     15\u001b[0m         \u001b[0;32mif\u001b[0m \u001b[0ml1\u001b[0m\u001b[0;34m:\u001b[0m\u001b[0;34m\u001b[0m\u001b[0;34m\u001b[0m\u001b[0m\n\u001b[0;32m---> 16\u001b[0;31m             \u001b[0mcarry\u001b[0m \u001b[0;34m+=\u001b[0m \u001b[0ml1\u001b[0m\u001b[0;34m.\u001b[0m\u001b[0mval\u001b[0m\u001b[0;34m\u001b[0m\u001b[0;34m\u001b[0m\u001b[0m\n\u001b[0m\u001b[1;32m     17\u001b[0m             \u001b[0ml1\u001b[0m \u001b[0;34m=\u001b[0m \u001b[0ml1\u001b[0m\u001b[0;34m.\u001b[0m\u001b[0mnext\u001b[0m\u001b[0;34m\u001b[0m\u001b[0;34m\u001b[0m\u001b[0m\n\u001b[1;32m     18\u001b[0m         \u001b[0;32mif\u001b[0m \u001b[0ml2\u001b[0m\u001b[0;34m:\u001b[0m\u001b[0;34m\u001b[0m\u001b[0;34m\u001b[0m\u001b[0m\n",
      "\u001b[0;31mAttributeError\u001b[0m: 'list' object has no attribute 'val'"
     ]
    }
   ],
   "source": [
    "addTwoNumbers([2,3,4],[4,5,6])"
   ]
  },
  {
   "cell_type": "code",
   "execution_count": 87,
   "metadata": {},
   "outputs": [],
   "source": [
    "def lengthOfLongestSubstring(s) -> int:\n",
    "    seen = ''\n",
    "    mx = 0\n",
    "    for c in s:\n",
    "        if c not in seen:\n",
    "            seen += c\n",
    "        else:\n",
    "            mx = max(mx, len(seen))\n",
    "            seen = seen[seen.index(c) + 1:] + c\n",
    "    return max(mx, len(seen))"
   ]
  },
  {
   "cell_type": "code",
   "execution_count": 88,
   "metadata": {},
   "outputs": [
    {
     "data": {
      "text/plain": [
       "3"
      ]
     },
     "execution_count": 88,
     "metadata": {},
     "output_type": "execute_result"
    }
   ],
   "source": [
    "lengthOfLongestSubstring(\"abbbbda\")"
   ]
  },
  {
   "cell_type": "code",
   "execution_count": 96,
   "metadata": {},
   "outputs": [
    {
     "data": {
      "text/plain": [
       "['b', 'b', 'd', 'a']"
      ]
     },
     "execution_count": 96,
     "metadata": {},
     "output_type": "execute_result"
    }
   ],
   "source": [
    "li = ['a','b','b','b','d','a']\n",
    "li[2: ]"
   ]
  },
  {
   "cell_type": "code",
   "execution_count": 97,
   "metadata": {},
   "outputs": [],
   "source": [
    "class Solution:\n",
    "    def lengthOfLongestSubstring(self, s: str) -> int:\n",
    "        new_list = ''\n",
    "        mx = 0\n",
    "        for c in s:\n",
    "            if c not in new_list:\n",
    "                new_list += c\n",
    "            else:\n",
    "                mx = max(mx, len(new_list))\n",
    "                new_list = new_list[new_list.index(c) + 1:] + c\n",
    "        return max(mx, len(new_list))"
   ]
  },
  {
   "cell_type": "code",
   "execution_count": null,
   "metadata": {},
   "outputs": [],
   "source": [
    "class Solution:\n",
    "     def findMedianSortedArrays(self, nums1: List[int], nums2: List[int]) -> float:\n",
    "#merge two lists\n",
    "        mer=nums1+nums2\n",
    "#sort merged list\n",
    "        mer.sort()\n",
    "#check for even\n",
    "        if len(mer)%2==0:\n",
    "            return (mer[int(len(mer)//2)-1]+mer[int(len(mer)//2)])/2\n",
    "#check for odd\n",
    "        else:\n",
    "            return mer[int(len(mer)/2)]"
   ]
  },
  {
   "cell_type": "code",
   "execution_count": null,
   "metadata": {},
   "outputs": [],
   "source": [
    "class Solution:\n",
    "    def longestPalindrome(self, s):\n",
    "        if len(s) == 1: return s\n",
    "        if s == s[::-1]: return s\n",
    "        \n",
    "        count = 0\n",
    "        \n",
    "        for i in range(len(s)):\n",
    "            for j in range(i,len(s) +1):\n",
    "                pal = s[i:j]\n",
    "                if pal == pal[::-1] and len(pal) > count:\n",
    "                    result = pal\n",
    "                    count = len(pal)\n",
    "        return result"
   ]
  },
  {
   "cell_type": "code",
   "execution_count": null,
   "metadata": {},
   "outputs": [],
   "source": [
    "class Solution(object):\n",
    "    def convert(self, s, numRows):\n",
    "        step = (numRows == 1) - 1  # 0 or -1  \n",
    "        rows, idx = [''] * numRows, 0\n",
    "        for c in s:\n",
    "            rows[idx] += c\n",
    "            if idx == 0 or idx == numRows-1: \n",
    "                step = -step  #change direction  \n",
    "            idx += step\n",
    "        return ''.join(rows)"
   ]
  },
  {
   "cell_type": "code",
   "execution_count": null,
   "metadata": {},
   "outputs": [],
   "source": [
    "#trapping water \n",
    "# Python3 implementation of the approach\n",
    " \n",
    "# Function to return the maximum\n",
    "# water that can be stored\n",
    "def maxWater(arr, n) :\n",
    "     \n",
    "    # To store the maximum water\n",
    "    # that can be stored\n",
    "    res = 0;\n",
    "     \n",
    "    # For every element of the array\n",
    "    for i in range(1, n - 1) :\n",
    "         \n",
    "        # Find the maximum element on its left\n",
    "        left = arr[i];\n",
    "        for j in range(i) :\n",
    "            left = max(left, arr[j]);\n",
    "         \n",
    "        # Find the maximum element on its right\n",
    "        right = arr[i];\n",
    "         \n",
    "        for j in range(i + 1 , n) :\n",
    "            right = max(right, arr[j]);\n",
    "             \n",
    "        # Update the maximum water\n",
    "        res = res + (min(left, right) - arr[i]);\n",
    " \n",
    "    return res;\n",
    " \n",
    "# Driver code\n",
    "if __name__ == \"__main__\" :\n",
    " \n",
    "    arr = [0, 1, 0, 2, 1, 0,\n",
    "           1, 3, 2, 1, 2, 1];\n",
    "    n = len(arr);\n",
    "     \n",
    "    print(maxWater(arr, n));\n",
    "     \n",
    "# This code is contributed by AnkitRai01"
   ]
  },
  {
   "cell_type": "code",
   "execution_count": null,
   "metadata": {},
   "outputs": [],
   "source": [
    "class Solution:\n",
    "    def isPalindrome(self, x: int) -> bool:\n",
    "\t    if x < 0:\n",
    "\t\t    return False\n",
    "\t\n",
    "\t    return str(x) == str(x)[::-1]\n",
    "        "
   ]
  },
  {
   "cell_type": "code",
   "execution_count": null,
   "metadata": {},
   "outputs": [],
   "source": [
    "class Solution:\n",
    "    def maxArea(self, height):\n",
    "        i, j = 0, len(height) - 1\n",
    "        water = 0\n",
    "        while i < j:\n",
    "            water = max(water, (j - i) * min(height[i], height[j]))\n",
    "            if height[i] < height[j]:\n",
    "                i += 1\n",
    "            else:\n",
    "                j -= 1\n",
    "        return water"
   ]
  },
  {
   "cell_type": "code",
   "execution_count": null,
   "metadata": {},
   "outputs": [],
   "source": [
    "def threeSum(self, nums: List[int]) -> List[List[int]]:\n",
    "        res = set()\n",
    "        nums.sort()\n",
    "        \n",
    "        for i in range(len(nums)-2):\n",
    "            left = i + 1\n",
    "            right = len(nums)-1\n",
    "            \n",
    "            while left < right:\n",
    "                if nums[i] + nums[left] + nums[right] < 0:\n",
    "                    left += 1\n",
    "                elif nums[i] + nums[left] + nums[right] > 0:\n",
    "                    right -= 1\n",
    "                else:\n",
    "                    res.add((nums[i], nums[left], nums[right]))\n",
    "                    left += 1\n",
    "                    right -= 1\n",
    "        \n",
    "        return list(res)"
   ]
  },
  {
   "cell_type": "code",
   "execution_count": null,
   "metadata": {},
   "outputs": [],
   "source": [
    "#valid parenthesis\n",
    "class Solution:\n",
    "    def isValid(self, s: str) -> bool:\n",
    "        while len(s) > 0:\n",
    "            l = len(s)\n",
    "            s = s.replace('()','').replace('{}','').replace('[]','')\n",
    "            if l==len(s): return False\n",
    "        return True"
   ]
  },
  {
   "cell_type": "code",
   "execution_count": 104,
   "metadata": {},
   "outputs": [],
   "source": [
    "# Definition for singly-linked list.\n",
    "class ListNode:\n",
    "    def __init__(self, val=0, next=None):\n",
    "        self.val = val\n",
    "        self.next = next\n",
    "class Solution:\n",
    "    def mergeTwoLists(self, l1: ListNode, l2: ListNode) -> ListNode:\n",
    "        if l1 and l2:\n",
    "\t\t\t# keep l1 always point to the smallest node\n",
    "            if l1.val > l2.val:\n",
    "                l1, l2 = l2, l1\n",
    "\t\t\t# so each step, connect the current smallest node to the already linked list\n",
    "            l1.next = self.mergeTwoLists(l1.next, l2)\n",
    "\t\t# short-circuit evaluation, if l1 not None, return l1, else, return l2\n",
    "        return l1 or l2"
   ]
  },
  {
   "cell_type": "code",
   "execution_count": 105,
   "metadata": {},
   "outputs": [
    {
     "ename": "NameError",
     "evalue": "name 'mergeTwoLists' is not defined",
     "output_type": "error",
     "traceback": [
      "\u001b[0;31m---------------------------------------------------------------------------\u001b[0m",
      "\u001b[0;31mNameError\u001b[0m                                 Traceback (most recent call last)",
      "\u001b[0;32m<ipython-input-105-83c7f60e5b44>\u001b[0m in \u001b[0;36m<module>\u001b[0;34m\u001b[0m\n\u001b[0;32m----> 1\u001b[0;31m \u001b[0mmergeTwoLists\u001b[0m\u001b[0;34m(\u001b[0m\u001b[0;34m[\u001b[0m\u001b[0;36m1\u001b[0m\u001b[0;34m,\u001b[0m\u001b[0;36m2\u001b[0m\u001b[0;34m,\u001b[0m\u001b[0;36m4\u001b[0m\u001b[0;34m]\u001b[0m\u001b[0;34m,\u001b[0m\u001b[0;34m[\u001b[0m\u001b[0;36m1\u001b[0m\u001b[0;34m,\u001b[0m\u001b[0;36m2\u001b[0m\u001b[0;34m,\u001b[0m\u001b[0;36m2\u001b[0m\u001b[0;34m]\u001b[0m\u001b[0;34m)\u001b[0m\u001b[0;34m\u001b[0m\u001b[0;34m\u001b[0m\u001b[0m\n\u001b[0m",
      "\u001b[0;31mNameError\u001b[0m: name 'mergeTwoLists' is not defined"
     ]
    }
   ],
   "source": [
    "mergeTwoLists([1,2,4],[1,2,2])"
   ]
  },
  {
   "cell_type": "code",
   "execution_count": null,
   "metadata": {},
   "outputs": [],
   "source": [
    "#remove duplicate from sorted array:\n",
    "class Solution:\n",
    "     def removeDuplicates(self, nums):\n",
    "        \"\"\"\n",
    "        :type nums: List[int]\n",
    "        :rtype: int\n",
    "        \"\"\"\n",
    "        \n",
    "        if not nums:\n",
    "            return 0\n",
    "        \n",
    "        index = 1\n",
    "        n = len(nums)\n",
    "        for i in range(n-1):\n",
    "            if nums[i] != nums[i+1]:\n",
    "                nums[index] = nums[i+1]\n",
    "                index += 1\n",
    "        return index\n",
    "        "
   ]
  },
  {
   "cell_type": "code",
   "execution_count": 106,
   "metadata": {},
   "outputs": [],
   "source": [
    "#kth largest int : \n",
    "def kLargest(arr, k):\n",
    "    # Sort the given array arr in reverse\n",
    "    # order.\n",
    "    arr.sort(reverse = True)\n",
    "    # Print the first kth largest elements\n",
    "    for i in range(k):\n",
    "        print (arr[i], end =\" \")"
   ]
  },
  {
   "cell_type": "code",
   "execution_count": 107,
   "metadata": {},
   "outputs": [
    {
     "name": "stdout",
     "output_type": "stream",
     "text": [
      "50 30 23 "
     ]
    }
   ],
   "source": [
    "arr = [1, 23, 12, 9, 30, 2, 50]\n",
    "# n = len(arr)\n",
    "k = 3\n",
    "kLargest(arr, k)"
   ]
  },
  {
   "cell_type": "code",
   "execution_count": null,
   "metadata": {},
   "outputs": [],
   "source": [
    "#permutation:\n",
    "#backtracking solution:\n",
    "class Solution(object):\n",
    "    def permute(self, nums):\n",
    "        \"\"\"\n",
    "        :type nums: List[int]\n",
    "        :rtype: List[List[int]]\n",
    "        \"\"\"\n",
    "        return itertools.permutations(nums)\n"
   ]
  },
  {
   "cell_type": "code",
   "execution_count": 108,
   "metadata": {},
   "outputs": [],
   "source": [
    "class Solution(object):\n",
    "    def permute(self, nums):\n",
    "        res = []\n",
    "        if len(nums) <= 1:\n",
    "            return [nums]\n",
    "        for i in range(len(nums)):\n",
    "            res += [[nums[i]] + x for x in self.permute(nums[:i]+nums[(i+1):])]\n",
    "        return res"
   ]
  },
  {
   "cell_type": "code",
   "execution_count": null,
   "metadata": {},
   "outputs": [],
   "source": [
    "#trap rain water:\n",
    "class Solution:\n",
    "    def trap(self, height: List[int]) -> int:\n",
    "        n=len(height)\n",
    "        res=0\n",
    "        for i in range(n):\n",
    "            l=max(height[0:i+1])    #finding maximum element from left array\n",
    "            r=max(height[i:n])         #finding maximum element from right array\n",
    "            res+=min(l,r)-height[i]\n",
    "        return res\n",
    "    \n",
    "    "
   ]
  }
 ],
 "metadata": {
  "kernelspec": {
   "display_name": "Python 3",
   "language": "python",
   "name": "python3"
  },
  "language_info": {
   "codemirror_mode": {
    "name": "ipython",
    "version": 3
   },
   "file_extension": ".py",
   "mimetype": "text/x-python",
   "name": "python",
   "nbconvert_exporter": "python",
   "pygments_lexer": "ipython3",
   "version": "3.7.3"
  }
 },
 "nbformat": 4,
 "nbformat_minor": 2
}
